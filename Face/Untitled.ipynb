{
 "cells": [
  {
   "cell_type": "code",
   "execution_count": 20,
   "metadata": {},
   "outputs": [
    {
     "name": "stdout",
     "output_type": "stream",
     "text": [
      "http://43.241.238.58:5000/static/upload/chenzitan.jpg\n",
      "<class 'str'>\n",
      "['b', '\"', '[', '(', \"'\", 'e', '3', '2', '3', '8', '7', '9', 'b', '-', 'e', '3', '5', 'a', '-', '4', 'b', 'd', 'b', '-', '9', '5', 'd', '6', '-', '6', '4', 'b', '2', 'd', 'a', '3', '9', '7', '8', '0', '1', \"'\", ',', ' ', 'a', 'r', 'r', 'a', 'y', '(', '[', ' ', '0', '.', '0', '1', '7', '9', '2', '1', '4', '1', ']', ',', ' ', 'd', 't', 'y', 'p', 'e', '=', 'f', 'l', 'o', 'a', 't', '3', '2', ')', ')', ']', '\\\\', 'n', '\"']\n"
     ]
    }
   ],
   "source": [
    "import os\n",
    "import subprocess\n",
    "import json\n",
    "from flask import Flask, render_template, jsonify, request\n",
    "\n",
    "img_url = \"http://43.241.238.58:5000/static/upload/chenzitan.jpg\"\n",
    "cmd = 'python /root/Face/face.py  \"%s\"' % img_url\n",
    "print(img_url)\n",
    "a = subprocess.check_output(cmd,shell=True)\n",
    "print(type(a.decode('ascii')))\n",
    "\n",
    "\n",
    "\n",
    "# print(list(str(a)))\n",
    "# print(type(a))\n",
    "# print(json.loads(a))"
   ]
  },
  {
   "cell_type": "code",
   "execution_count": 31,
   "metadata": {},
   "outputs": [
    {
     "data": {
      "text/plain": [
       "\"[('e323879b-e35a-4bdb-95d6-64b2da397801', array([ 0.01792141], dtype=float32))]\\n\""
      ]
     },
     "execution_count": 31,
     "metadata": {},
     "output_type": "execute_result"
    }
   ],
   "source": [
    "a.decode('ascii')"
   ]
  },
  {
   "cell_type": "code",
   "execution_count": 25,
   "metadata": {},
   "outputs": [
    {
     "data": {
      "text/plain": [
       "b\"[('e323879b-e35a-4bdb-95d6-64b2da397801', array([ 0.01792141], dtype=float32))]\\n\""
      ]
     },
     "execution_count": 25,
     "metadata": {},
     "output_type": "execute_result"
    }
   ],
   "source": []
  }
 ],
 "metadata": {
  "kernelspec": {
   "display_name": "Python 3",
   "language": "python",
   "name": "python3"
  },
  "language_info": {
   "codemirror_mode": {
    "name": "ipython",
    "version": 3
   },
   "file_extension": ".py",
   "mimetype": "text/x-python",
   "name": "python",
   "nbconvert_exporter": "python",
   "pygments_lexer": "ipython3",
   "version": "3.6.1"
  }
 },
 "nbformat": 4,
 "nbformat_minor": 2
}
