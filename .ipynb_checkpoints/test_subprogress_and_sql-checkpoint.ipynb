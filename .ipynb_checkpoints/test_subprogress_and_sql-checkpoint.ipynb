{
 "cells": [
  {
   "cell_type": "code",
   "execution_count": 15,
   "metadata": {},
   "outputs": [
    {
     "data": {
      "text/plain": [
       "'[[1, \"yyf\", \"25264d54-b6ce-4f15-9db5-a652e43ebefb\"], [2, \"czt\", \"e323879b-e35a-4bdb-95d6-64b2da397801\"], [3, \"zmq\", \"d956b150-64c2-43fc-b090-cc780286ca2f\"], [4, \"dxh\", \"4eb7e73b-f77c-4b4b-befe-546bae2067a6\"], [5, \"xhx\", \"cfad23fb-16cd-4d90-8883-093c1238ef35\"], [6, \"wph\", \"4356ee9e-a35a-416e-985e-4a191db0bef4\"]]'"
      ]
     },
     "execution_count": 15,
     "metadata": {},
     "output_type": "execute_result"
    }
   ],
   "source": [
    "import mysql.connector as mariadb \n",
    "import json\n",
    "import numpy as np\n",
    "mariadb_connection = mariadb.connect(user='root', password='', database='test') \n",
    "cursor = mariadb_connection.cursor()\n",
    "\n",
    "cursor.execute('select * from users')\n",
    "r = []\n",
    "for i in cursor:\n",
    "    r.append(i)\n",
    "json.dumps(r)"
   ]
  },
  {
   "cell_type": "code",
   "execution_count": 5,
   "metadata": {},
   "outputs": [
    {
     "data": {
      "text/plain": [
       "\"[('4356ee9e-a35a-416e-985e-4a191db0bef4', array([ 0.01820427], dtype=float32)), ('4356ee9e-a35a-416e-985e-4a191db0bef4', array([ 0.01863985], dtype=float32))]\\n\""
      ]
     },
     "execution_count": 5,
     "metadata": {},
     "output_type": "execute_result"
    }
   ],
   "source": [
    "import subprocess\n",
    "img_url = img_url = 'http://43.241.238.58:5000/static/upload/1.jpg'\n",
    "cmd = 'python Face/face.py  \"%s\"' % img_url\n",
    "\n",
    "result_str = subprocess.check_output(cmd, shell=True)\n",
    "result_str = result_str.decode('utf8')"
   ]
  },
  {
   "cell_type": "code",
   "execution_count": 17,
   "metadata": {},
   "outputs": [],
   "source": [
    "#from numpy import array\n",
    "#array = np.array\n",
    "#float32 = np.float32\n",
    "l = eval(result_str)"
   ]
  },
  {
   "cell_type": "code",
   "execution_count": null,
   "metadata": {},
   "outputs": [],
   "source": []
  }
 ],
 "metadata": {
  "kernelspec": {
   "display_name": "Python 3",
   "language": "python",
   "name": "python3"
  },
  "language_info": {
   "codemirror_mode": {
    "name": "ipython",
    "version": 3
   },
   "file_extension": ".py",
   "mimetype": "text/x-python",
   "name": "python",
   "nbconvert_exporter": "python",
   "pygments_lexer": "ipython3",
   "version": "3.6.1"
  }
 },
 "nbformat": 4,
 "nbformat_minor": 2
}
