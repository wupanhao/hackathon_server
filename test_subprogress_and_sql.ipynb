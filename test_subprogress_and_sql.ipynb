{
 "cells": [
  {
   "cell_type": "code",
   "execution_count": 15,
   "metadata": {},
   "outputs": [
    {
     "data": {
      "text/plain": [
       "'[[1, \"yyf\", \"25264d54-b6ce-4f15-9db5-a652e43ebefb\"], [2, \"czt\", \"e323879b-e35a-4bdb-95d6-64b2da397801\"], [3, \"zmq\", \"d956b150-64c2-43fc-b090-cc780286ca2f\"], [4, \"dxh\", \"4eb7e73b-f77c-4b4b-befe-546bae2067a6\"], [5, \"xhx\", \"cfad23fb-16cd-4d90-8883-093c1238ef35\"], [6, \"wph\", \"4356ee9e-a35a-416e-985e-4a191db0bef4\"]]'"
      ]
     },
     "execution_count": 15,
     "metadata": {},
     "output_type": "execute_result"
    }
   ],
   "source": [
    "import mysql.connector as mariadb \n",
    "import json\n",
    "import numpy as np\n",
    "mariadb_connection = mariadb.connect(user='root', password='', database='test') \n",
    "cursor = mariadb_connection.cursor()\n",
    "\n",
    "cursor.execute('select * from users')\n",
    "r = []\n",
    "for i in cursor:\n",
    "    r.append(i)\n",
    "json.dumps(r)"
   ]
  },
  {
   "cell_type": "code",
   "execution_count": 8,
   "metadata": {},
   "outputs": [
    {
     "data": {
      "text/plain": [
       "\"data: [{'faceId': '895ba0c9-ca20-4caf-a485-0d02e7eed9dd', 'faceRectangle': {'top': 978, 'left': 2076, 'width': 917, 'height': 917}, 'faceAttributes': {'emotion': {'anger': 0.0, 'contempt': 0.003, 'disgust': 0.0, 'fear': 0.0, 'happiness': 0.467, 'neutral': 0.523, 'sadness': 0.004, 'surprise': 0.002}}}, {'faceId': 'b9ba9c8f-d07d-45f8-9b12-21987cd0c658', 'faceRectangle': {'top': 855, 'left': 182, 'width': 768, 'height': 768}, 'faceAttributes': {'emotion': {'anger': 0.001, 'contempt': 0.0, 'disgust': 0.0, 'fear': 0.0, 'happiness': 0.998, 'neutral': 0.0, 'sadness': 0.0, 'surprise': 0.0}}}]\\nfaceID: ['895ba0c9-ca20-4caf-a485-0d02e7eed9dd', 'b9ba9c8f-d07d-45f8-9b12-21987cd0c658']\\nlen(data):  2\\nlen(faceID):  2\\n[('4356ee9e-a35a-416e-985e-4a191db0bef4', 0.018325781)]\\n\""
      ]
     },
     "execution_count": 8,
     "metadata": {},
     "output_type": "execute_result"
    }
   ],
   "source": [
    "import subprocess\n",
    "img_url = 'http://43.241.238.58:5000/static/upload/IMG_201706251224214323.jpg'\n",
    "cmd = 'python Face/face.py  \"%s\"' % img_url\n",
    "\n",
    "result_str = subprocess.check_output(cmd, shell=True)\n",
    "result_str = result_str.decode('utf8')\n",
    "result_str"
   ]
  },
  {
   "cell_type": "code",
   "execution_count": 17,
   "metadata": {
    "collapsed": true
   },
   "outputs": [],
   "source": [
    "#from numpy import array\n",
    "#array = np.array\n",
    "#float32 = np.float32\n",
    "l = eval(result_str)"
   ]
  },
  {
   "cell_type": "code",
   "execution_count": 13,
   "metadata": {},
   "outputs": [
    {
     "data": {
      "text/plain": [
       "[('4356ee9e-a35a-416e-985e-4a191db0bef4', array([ 0.01820427], dtype=float32)),\n",
       " ('4356ee9e-a35a-416e-985e-4a191db0bef4', array([ 0.01863985], dtype=float32))]"
      ]
     },
     "execution_count": 13,
     "metadata": {},
     "output_type": "execute_result"
    }
   ],
   "source": [
    "l"
   ]
  },
  {
   "cell_type": "code",
   "execution_count": 22,
   "metadata": {
    "collapsed": true
   },
   "outputs": [],
   "source": [
    "import pandas as pd"
   ]
  },
  {
   "cell_type": "code",
   "execution_count": 34,
   "metadata": {},
   "outputs": [
    {
     "data": {
      "text/html": [
       "<div>\n",
       "<style>\n",
       "    .dataframe thead tr:only-child th {\n",
       "        text-align: right;\n",
       "    }\n",
       "\n",
       "    .dataframe thead th {\n",
       "        text-align: left;\n",
       "    }\n",
       "\n",
       "    .dataframe tbody tr th {\n",
       "        vertical-align: top;\n",
       "    }\n",
       "</style>\n",
       "<table border=\"1\" class=\"dataframe\">\n",
       "  <thead>\n",
       "    <tr style=\"text-align: right;\">\n",
       "      <th></th>\n",
       "      <th>0</th>\n",
       "      <th>1</th>\n",
       "    </tr>\n",
       "  </thead>\n",
       "  <tbody>\n",
       "    <tr>\n",
       "      <th>0</th>\n",
       "      <td>4356ee9e-a35a-416e-985e-4a191db0bef4</td>\n",
       "      <td>[0.0182043]</td>\n",
       "    </tr>\n",
       "    <tr>\n",
       "      <th>1</th>\n",
       "      <td>4356ee9e-a35a-416e-985e-4a191db0bef4</td>\n",
       "      <td>[0.0186398]</td>\n",
       "    </tr>\n",
       "  </tbody>\n",
       "</table>\n",
       "</div>"
      ],
      "text/plain": [
       "                                      0            1\n",
       "0  4356ee9e-a35a-416e-985e-4a191db0bef4  [0.0182043]\n",
       "1  4356ee9e-a35a-416e-985e-4a191db0bef4  [0.0186398]"
      ]
     },
     "execution_count": 34,
     "metadata": {},
     "output_type": "execute_result"
    }
   ],
   "source": [
    "l = pd.DataFrame(l)\n",
    "l"
   ]
  },
  {
   "cell_type": "code",
   "execution_count": 59,
   "metadata": {
    "collapsed": true
   },
   "outputs": [],
   "source": [
    "l[[1]] = l[[1]].apply(lambda x: x[0])"
   ]
  },
  {
   "cell_type": "code",
   "execution_count": 65,
   "metadata": {},
   "outputs": [
    {
     "data": {
      "text/html": [
       "<div>\n",
       "<style>\n",
       "    .dataframe thead tr:only-child th {\n",
       "        text-align: right;\n",
       "    }\n",
       "\n",
       "    .dataframe thead th {\n",
       "        text-align: left;\n",
       "    }\n",
       "\n",
       "    .dataframe tbody tr th {\n",
       "        vertical-align: top;\n",
       "    }\n",
       "</style>\n",
       "<table border=\"1\" class=\"dataframe\">\n",
       "  <thead>\n",
       "    <tr style=\"text-align: right;\">\n",
       "      <th></th>\n",
       "      <th>0</th>\n",
       "      <th>1</th>\n",
       "    </tr>\n",
       "  </thead>\n",
       "  <tbody>\n",
       "    <tr>\n",
       "      <th>0</th>\n",
       "      <td>4356ee9e-a35a-416e-985e-4a191db0bef4</td>\n",
       "      <td>0.018204</td>\n",
       "    </tr>\n",
       "    <tr>\n",
       "      <th>1</th>\n",
       "      <td>4356ee9e-a35a-416e-985e-4a191db0bef4</td>\n",
       "      <td>0.018204</td>\n",
       "    </tr>\n",
       "  </tbody>\n",
       "</table>\n",
       "</div>"
      ],
      "text/plain": [
       "                                      0         1\n",
       "0  4356ee9e-a35a-416e-985e-4a191db0bef4  0.018204\n",
       "1  4356ee9e-a35a-416e-985e-4a191db0bef4  0.018204"
      ]
     },
     "execution_count": 65,
     "metadata": {},
     "output_type": "execute_result"
    }
   ],
   "source": [
    "l"
   ]
  }
 ],
 "metadata": {
  "kernelspec": {
   "display_name": "Python 3",
   "language": "python",
   "name": "python3"
  },
  "language_info": {
   "codemirror_mode": {
    "name": "ipython",
    "version": 3
   },
   "file_extension": ".py",
   "mimetype": "text/x-python",
   "name": "python",
   "nbconvert_exporter": "python",
   "pygments_lexer": "ipython3",
   "version": "3.6.1"
  }
 },
 "nbformat": 4,
 "nbformat_minor": 2
}
